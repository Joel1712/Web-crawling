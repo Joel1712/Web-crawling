{
 "cells": [
  {
   "cell_type": "markdown",
   "metadata": {},
   "source": [
    "## Web scraping from IMDB pages"
   ]
  },
  {
   "cell_type": "code",
   "execution_count": 1,
   "metadata": {},
   "outputs": [],
   "source": [
    "import requests\n",
    "from bs4 import BeautifulSoup\n",
    "from newspaper import Article\n",
    "import pandas as pd\n",
    "import numpy as np\n",
    "import json"
   ]
  },
  {
   "cell_type": "code",
   "execution_count": 2,
   "metadata": {},
   "outputs": [],
   "source": [
    "url = \"https://www.imdb.com/list/ls068010962/\"\n",
    "r = requests.get(url)\n",
    "soup = BeautifulSoup(r.content, 'html5lib') \n",
    "# print(soup.prettify)"
   ]
  },
  {
   "cell_type": "code",
   "execution_count": 3,
   "metadata": {},
   "outputs": [],
   "source": [
    "import re\n",
    "p=soup.find(type=\"application/ld+json\")\n",
    "text=str(p);tex=text.split(\"\\n\");"
   ]
  },
  {
   "cell_type": "markdown",
   "metadata": {},
   "source": [
    "#### Finding url of pages corresponding to each star"
   ]
  },
  {
   "cell_type": "code",
   "execution_count": null,
   "metadata": {},
   "outputs": [],
   "source": [
    "text=[]\n",
    "for t in tex:\n",
    "    if re.search(r\"\\\"url\\\": *\", t):\n",
    "        t=t.split(\"\\\"url\\\":\",1)[1];\n",
    "        t=t.strip();t=t[1:-1]\n",
    "        text.append(\"https://www.imdb.com\"+t)"
   ]
  },
  {
   "cell_type": "markdown",
   "metadata": {},
   "source": [
    "#### Obtaining all required parameters from celeb's IMDB page through scraping"
   ]
  },
  {
   "cell_type": "code",
   "execution_count": 4,
   "metadata": {},
   "outputs": [
    {
     "data": {
      "text/html": [
       "<div>\n",
       "<style scoped>\n",
       "    .dataframe tbody tr th:only-of-type {\n",
       "        vertical-align: middle;\n",
       "    }\n",
       "\n",
       "    .dataframe tbody tr th {\n",
       "        vertical-align: top;\n",
       "    }\n",
       "\n",
       "    .dataframe thead th {\n",
       "        text-align: right;\n",
       "    }\n",
       "</style>\n",
       "<table border=\"1\" class=\"dataframe\">\n",
       "  <thead>\n",
       "    <tr style=\"text-align: right;\">\n",
       "      <th></th>\n",
       "      <th>Birthdate</th>\n",
       "      <th>Description</th>\n",
       "      <th>Image</th>\n",
       "      <th>Name</th>\n",
       "    </tr>\n",
       "  </thead>\n",
       "  <tbody>\n",
       "    <tr>\n",
       "      <th>0</th>\n",
       "      <td>1965-03-14</td>\n",
       "      <td>Aamir is no doubt one of the most dedicated ac...</td>\n",
       "      <td>https://m.media-amazon.com/images/M/MV5BMjAwMj...</td>\n",
       "      <td>Aamir Khan</td>\n",
       "    </tr>\n",
       "    <tr>\n",
       "      <th>1</th>\n",
       "      <td>1967-09-09</td>\n",
       "      <td>Akshay Kumar, born September 9, 1967, is an ac...</td>\n",
       "      <td>https://m.media-amazon.com/images/M/MV5BODI4ND...</td>\n",
       "      <td>Akshay Kumar</td>\n",
       "    </tr>\n",
       "    <tr>\n",
       "      <th>2</th>\n",
       "      <td>1969-04-02</td>\n",
       "      <td>Ajay Devgn is an Indian film actor, director, ...</td>\n",
       "      <td>https://m.media-amazon.com/images/M/MV5BMTY0MD...</td>\n",
       "      <td>Ajay Devgn</td>\n",
       "    </tr>\n",
       "    <tr>\n",
       "      <th>3</th>\n",
       "      <td>1940-11-12</td>\n",
       "      <td>Amjad Khan was born on November 12, 1940 in Hy...</td>\n",
       "      <td>https://m.media-amazon.com/images/M/MV5BOWUzNj...</td>\n",
       "      <td>Amjad Khan</td>\n",
       "    </tr>\n",
       "    <tr>\n",
       "      <th>4</th>\n",
       "      <td>1942-10-11</td>\n",
       "      <td>Son of well known poet Harivansh Rai Bachchan ...</td>\n",
       "      <td>https://m.media-amazon.com/images/M/MV5BNTk1OT...</td>\n",
       "      <td>Amitabh Bachchan</td>\n",
       "    </tr>\n",
       "  </tbody>\n",
       "</table>\n",
       "</div>"
      ],
      "text/plain": [
       "    Birthdate                                        Description  \\\n",
       "0  1965-03-14  Aamir is no doubt one of the most dedicated ac...   \n",
       "1  1967-09-09  Akshay Kumar, born September 9, 1967, is an ac...   \n",
       "2  1969-04-02  Ajay Devgn is an Indian film actor, director, ...   \n",
       "3  1940-11-12  Amjad Khan was born on November 12, 1940 in Hy...   \n",
       "4  1942-10-11  Son of well known poet Harivansh Rai Bachchan ...   \n",
       "\n",
       "                                               Image              Name  \n",
       "0  https://m.media-amazon.com/images/M/MV5BMjAwMj...        Aamir Khan  \n",
       "1  https://m.media-amazon.com/images/M/MV5BODI4ND...      Akshay Kumar  \n",
       "2  https://m.media-amazon.com/images/M/MV5BMTY0MD...        Ajay Devgn  \n",
       "3  https://m.media-amazon.com/images/M/MV5BOWUzNj...        Amjad Khan  \n",
       "4  https://m.media-amazon.com/images/M/MV5BNTk1OT...  Amitabh Bachchan  "
      ]
     },
     "execution_count": 4,
     "metadata": {},
     "output_type": "execute_result"
    }
   ],
   "source": [
    "df=[];j=0\n",
    "for te in text:\n",
    "    r = requests.get(te)\n",
    "    soup = BeautifulSoup(r.content, 'html5lib') \n",
    "    p=soup.find(type=\"application/ld+json\")\n",
    "    t1=str(p);t1=t1.split(\"\\n\");\n",
    "    data={}\n",
    "    \n",
    "    for t in t1:\n",
    "        if re.search(r\"\\\"name\\\": *\", t):\n",
    "            t=t.split(\"\\\"name\\\":\",1)[1];# Obtaining name [content given after \"name\":]\n",
    "            t=t.strip();t=re.findall(r'\"([^\"]*)\"',t)[0]\n",
    "            data['Name']=t      \n",
    "        if re.search(r\"\\\"image\\\": *\", t):\n",
    "            t=t.split(\"\\\"image\\\":\",1)[1];t=re.findall(r'\"([^\"]*)\"',t)[0]\n",
    "            data['Image']=t     \n",
    "        if re.search(r\"\\\"description\\\": *\", t):\n",
    "            t=t.split(\"\\\"description\\\":\",1)[1];t=re.findall(r'\"([^\"]*)\"',t)[0]\n",
    "            data['Description']=t  \n",
    "        if re.search(r\"\\\"birthDate\\\": *\", t):\n",
    "            t=t.split(\"\\\"birthDate\\\":\",1)[1];t=re.findall(r'\"([^\"]*)\"',t)[0]\n",
    "            data['Birthdate']=t\n",
    "    df.append(data)\n",
    "df=pd.DataFrame(df)#converting to pandas DataFrame\n",
    "df.head()"
   ]
  },
  {
   "cell_type": "code",
   "execution_count": 5,
   "metadata": {},
   "outputs": [],
   "source": [
    "#Saving the database \n",
    "df.to_csv(\"Movie_celeb_IMDB.csv\")"
   ]
  },
  {
   "cell_type": "code",
   "execution_count": null,
   "metadata": {},
   "outputs": [],
   "source": []
  }
 ],
 "metadata": {
  "kernelspec": {
   "display_name": "Tflow",
   "language": "python",
   "name": "tflow"
  },
  "language_info": {
   "codemirror_mode": {
    "name": "ipython",
    "version": 3
   },
   "file_extension": ".py",
   "mimetype": "text/x-python",
   "name": "python",
   "nbconvert_exporter": "python",
   "pygments_lexer": "ipython3",
   "version": "3.7.3"
  }
 },
 "nbformat": 4,
 "nbformat_minor": 2
}
