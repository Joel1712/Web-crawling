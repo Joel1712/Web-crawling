{
 "cells": [
  {
   "cell_type": "markdown",
   "metadata": {},
   "source": [
    "## Web scraping from wikipedia pages"
   ]
  },
  {
   "cell_type": "code",
   "execution_count": 1,
   "metadata": {},
   "outputs": [],
   "source": [
    "import requests\n",
    "from bs4 import BeautifulSoup\n",
    "from newspaper import Article\n",
    "import pandas as pd\n",
    "import numpy as np\n",
    "import json\n",
    "import re"
   ]
  },
  {
   "cell_type": "code",
   "execution_count": 2,
   "metadata": {},
   "outputs": [],
   "source": [
    "url1 = \"https://en.wikipedia.org/wiki/List_of_Indian_film_actors\"\n",
    "url2 = \"https://en.wikipedia.org/wiki/List_of_Indian_film_actresses\"\n",
    "df=[];name=[]\n",
    "\n",
    "def data_extractor(urls):\n",
    "    global df \n",
    "    \n",
    "    for url in urls:\n",
    "        data={}\n",
    "        r = requests.get(url)\n",
    "        soup = BeautifulSoup(r.content, 'html5lib') \n",
    "\n",
    "        if soup.find('table',{\"class\":\"infobox biography vcard\"}):# Check if the page has infobox\n",
    "            d=soup.find('table',{\"class\":\"infobox biography vcard\"})\n",
    "\n",
    "            #Extracting required information about actor from infobox\n",
    "            if(d.find('span',{\"class\":\"bday\"})):data['DOB']=d.find('span',{\"class\":\"bday\"}).text    \n",
    "\n",
    "            if(d.find('a',{\"class\":\"image\"})):\n",
    "                li=\"https://en.wikipedia.org/\"+d.find('a',{\"class\":\"image\"})['href']\n",
    "                r1 = requests.get(li);s1 = BeautifulSoup(r1.content, 'html5lib')\n",
    "                #Extracting links to images from wikimedia pages\n",
    "                data['Image']='https:'+s1.find('div',{'class':'fullImageLink'}).find('a')['href']\n",
    "\n",
    "        #Extracting summary from first paragraph in intro section\n",
    "        data['Summary']=soup.find('p',{'class':''}).text\n",
    "        df.append(data)\n",
    "    \n",
    "\n",
    "def data_scraper(url,len):\n",
    "    global df;global name\n",
    "    r = requests.get(url)\n",
    "    soup = BeautifulSoup(r.content, 'html5lib') \n",
    "\n",
    "    #obtaining list of all actors' page links\n",
    "    links=soup.find_all('li')[1:len]\n",
    "\n",
    "    #Obtaining url links for actors page and their name list\n",
    "    urls=[]\n",
    "    for link in links:\n",
    "        p=link.find('a')['href']\n",
    "        urls.append(\"https://en.wikipedia.org/\"+p)\n",
    "        name.append(link.find('a').text)\n",
    "    data_extractor(urls)       "
   ]
  },
  {
   "cell_type": "code",
   "execution_count": 3,
   "metadata": {},
   "outputs": [],
   "source": [
    "# data_scraper(url2,925)\n",
    "data_scraper(url1,800)"
   ]
  },
  {
   "cell_type": "code",
   "execution_count": 4,
   "metadata": {},
   "outputs": [
    {
     "data": {
      "text/html": [
       "<div>\n",
       "<style scoped>\n",
       "    .dataframe tbody tr th:only-of-type {\n",
       "        vertical-align: middle;\n",
       "    }\n",
       "\n",
       "    .dataframe tbody tr th {\n",
       "        vertical-align: top;\n",
       "    }\n",
       "\n",
       "    .dataframe thead th {\n",
       "        text-align: right;\n",
       "    }\n",
       "</style>\n",
       "<table border=\"1\" class=\"dataframe\">\n",
       "  <thead>\n",
       "    <tr style=\"text-align: right;\">\n",
       "      <th></th>\n",
       "      <th>DOB</th>\n",
       "      <th>Image</th>\n",
       "      <th>Summary</th>\n",
       "      <th>Name</th>\n",
       "    </tr>\n",
       "  </thead>\n",
       "  <tbody>\n",
       "    <tr>\n",
       "      <th>0</th>\n",
       "      <td>1914-02-01</td>\n",
       "      <td>https://upload.wikimedia.org/wikipedia/commons...</td>\n",
       "      <td>Avtar Kishan Hangal (1 February 1914 – 26 Augu...</td>\n",
       "      <td>A. K. Hangal</td>\n",
       "    </tr>\n",
       "    <tr>\n",
       "      <th>1</th>\n",
       "      <td>NaN</td>\n",
       "      <td>https://upload.wikimedia.org/wikipedia/commons...</td>\n",
       "      <td>Aadhi Pinisetty is an Indian film actor who ap...</td>\n",
       "      <td>Aadhi</td>\n",
       "    </tr>\n",
       "    <tr>\n",
       "      <th>2</th>\n",
       "      <td>1989-12-23</td>\n",
       "      <td>NaN</td>\n",
       "      <td>Aadi Saikumar (born Aditya Pudipeddi) is an In...</td>\n",
       "      <td>Aadi Pudipeddi</td>\n",
       "    </tr>\n",
       "    <tr>\n",
       "      <th>3</th>\n",
       "      <td>1965-03-14</td>\n",
       "      <td>https://upload.wikimedia.org/wikipedia/commons...</td>\n",
       "      <td>Mohammed Aamir Hussain Khan (pronounced [ˈaːmɪ...</td>\n",
       "      <td>Aamir Khan</td>\n",
       "    </tr>\n",
       "    <tr>\n",
       "      <th>4</th>\n",
       "      <td>1978-07-21</td>\n",
       "      <td>https://upload.wikimedia.org/wikipedia/commons...</td>\n",
       "      <td>Ashish Chaudhary (born 21 July 1978) is a  Bol...</td>\n",
       "      <td>Aashish Chaudhary</td>\n",
       "    </tr>\n",
       "  </tbody>\n",
       "</table>\n",
       "</div>"
      ],
      "text/plain": [
       "          DOB                                              Image  \\\n",
       "0  1914-02-01  https://upload.wikimedia.org/wikipedia/commons...   \n",
       "1         NaN  https://upload.wikimedia.org/wikipedia/commons...   \n",
       "2  1989-12-23                                                NaN   \n",
       "3  1965-03-14  https://upload.wikimedia.org/wikipedia/commons...   \n",
       "4  1978-07-21  https://upload.wikimedia.org/wikipedia/commons...   \n",
       "\n",
       "                                             Summary               Name  \n",
       "0  Avtar Kishan Hangal (1 February 1914 – 26 Augu...       A. K. Hangal  \n",
       "1  Aadhi Pinisetty is an Indian film actor who ap...              Aadhi  \n",
       "2  Aadi Saikumar (born Aditya Pudipeddi) is an In...     Aadi Pudipeddi  \n",
       "3  Mohammed Aamir Hussain Khan (pronounced [ˈaːmɪ...         Aamir Khan  \n",
       "4  Ashish Chaudhary (born 21 July 1978) is a  Bol...  Aashish Chaudhary  "
      ]
     },
     "execution_count": 4,
     "metadata": {},
     "output_type": "execute_result"
    }
   ],
   "source": [
    "df=pd.DataFrame(df) \n",
    "df[\"Name\"]=name\n",
    "#Saving the database \n",
    "df.to_csv(\"Movie_celeb_wiki.csv\")\n",
    "df.head()"
   ]
  },
  {
   "cell_type": "code",
   "execution_count": null,
   "metadata": {},
   "outputs": [],
   "source": []
  }
 ],
 "metadata": {
  "kernelspec": {
   "display_name": "Tflow",
   "language": "python",
   "name": "tflow"
  },
  "language_info": {
   "codemirror_mode": {
    "name": "ipython",
    "version": 3
   },
   "file_extension": ".py",
   "mimetype": "text/x-python",
   "name": "python",
   "nbconvert_exporter": "python",
   "pygments_lexer": "ipython3",
   "version": "3.7.3"
  }
 },
 "nbformat": 4,
 "nbformat_minor": 2
}
